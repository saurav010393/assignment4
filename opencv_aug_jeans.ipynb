{
 "cells": [
  {
   "cell_type": "markdown",
   "metadata": {},
   "source": [
    "# Importing Important libraries:"
   ]
  },
  {
   "cell_type": "code",
   "execution_count": null,
   "metadata": {},
   "outputs": [],
   "source": [
    "import cv2\n",
    "import glob \n",
    "import sys\n",
    "import os\n",
    "import numpy as np"
   ]
  },
  {
   "cell_type": "markdown",
   "metadata": {},
   "source": [
    "# In this part of the kernel we are augmenting our image data with the help of OpenCv."
   ]
  },
  {
   "cell_type": "markdown",
   "metadata": {},
   "source": [
    "# OpenCV-Python is a library of Python which is designed to solve computer vision problems"
   ]
  },
  {
   "cell_type": "markdown",
   "metadata": {},
   "source": [
    "# Starting with Rotation:"
   ]
  },
  {
   "cell_type": "code",
   "execution_count": null,
   "metadata": {},
   "outputs": [],
   "source": [
    "# Starting Rotation with anticlockwise:\n",
    "\n",
    "filename = \"C:/Users/ASUS/assignment3/train/flipkart_jeans\"\n",
    "os.makedirs('C:/Users/ASUS/assignment3_data/aug/')\n",
    "for img in glob.glob(filename+'/*.*'):\n",
    "    var_img = cv2.imread(img)\n",
    "    img_name=os.path.basename(img)\n",
    "    img_name_final=os.path.splitext(img_name)\n",
    "    print(img_name_final[0])\n",
    "    cv2.imshow(img_name , var_img)\n",
    "    cv2.waitKey(0)\n",
    "    cv2.destroyAllWindows()\n",
    "    h,w=var_img.shape[:2]\n",
    "    rot_mat=cv2.getRotationMatrix2D((w/2,h/2),30,0.6)\n",
    "    rot_acw=cv2.warpAffine(var_img,rot_mat,(w,h))\n",
    "    cv2.imshow('Rotated' , rot_acw)\n",
    "    cv2.waitKey(0)\n",
    "    cv2.destroyAllWindows()\n",
    "    file=\"C:/Users/ASUS/assignment3_data/aug/\"+img_name_final[0]+\"_rot_acw.jpg\"\n",
    "    cv2.imwrite(file,rot_acw)"
   ]
  },
  {
   "cell_type": "code",
   "execution_count": null,
   "metadata": {},
   "outputs": [],
   "source": [
    "#Now is the term of rotating it clockwise: \n",
    "filename = \"C:/Users/ASUS/assignment3/train/flipkart_jeans\"\n",
    "os.makedirs('C:/Users/ASUS/assign3_data/aug/')\n",
    "for img in glob.glob(filename+'/*.*'):\n",
    "    var_img = cv2.imread(img)\n",
    "    img_name=os.path.basename(img)\n",
    "    img_name_final=os.path.splitext(img_name)\n",
    "    print(img_name_final[0])\n",
    "    cv2.imshow(img_name , var_img)\n",
    "    cv2.waitKey(0)\n",
    "    cv2.destroyAllWindows()\n",
    "    h,w=var_img.shape[:2]\n",
    "    rot_mat=cv2.getRotationMatrix2D((w/2,h/2),-30,0.6)\n",
    "    rot_cw=cv2.warpAffine(var_img,rot_mat,(w,h))\n",
    "    cv2.imshow('Rotated' , rot_cw)\n",
    "    cv2.waitKey(0)\n",
    "    cv2.destroyAllWindows()\n",
    "    file=\"C:/Users/ASUS/assign3_data/aug/\"+img_name_final[0]+\"clkwise.jpg\"\n",
    "    \n",
    "    cv2.imwrite(file,rot_cw)"
   ]
  },
  {
   "cell_type": "markdown",
   "metadata": {},
   "source": [
    "# In this part we flipping the image:"
   ]
  },
  {
   "cell_type": "code",
   "execution_count": null,
   "metadata": {},
   "outputs": [],
   "source": [
    "#We can flip the image either in vetically or horizontally depening upon image data:\n",
    "\n",
    "filename = \"C:/Users/ASUS/assignment3/train/flipkart_jeans\"\n",
    "os.makedirs('C:/Users/ASUS/assignment6_data/aug/')\n",
    "for img in glob.glob(filename+'/*.*'):\n",
    "    var_img = cv2.imread(img)\n",
    "    img_name=os.path.basename(img)\n",
    "    img_name_final=os.path.splitext(img_name)\n",
    "    flipped=cv2.flip(var_img,1)\n",
    "    cv2.imshow('flipped' , flipped)\n",
    "    cv2.waitKey(0)\n",
    "    cv2.destroyAllWindows()\n",
    "    file=\"C:/Users/ASUS/assignment6_data/aug/\"+img_name_final[0]+\"flipped.jpg\"\n",
    "    cv2.imwrite(file,flipped)"
   ]
  },
  {
   "cell_type": "markdown",
   "metadata": {},
   "source": [
    "# In this part Brightening of Image is done:"
   ]
  },
  {
   "cell_type": "code",
   "execution_count": null,
   "metadata": {},
   "outputs": [],
   "source": [
    "# First start with the decresing the brightness of image:\n",
    "\n",
    "filename = \"C:/Users/ASUS/assignment3/train/flipkart_jeans\"\n",
    "os.makedirs('C:/Users/ASUS/assignment3_data/aug/')\n",
    "for img in glob.glob(filename+'/*.*'):\n",
    "    var_img = cv2.imread(img)\n",
    "    img_name=os.path.basename(img)\n",
    "    img_name_final=os.path.splitext(img_name)\n",
    "    m=np.ones(var_img.shape,dtype='uint8')*85\n",
    "    subtract=cv2.subtract(var_img,m)\n",
    "    cv2.imshow('Bright_dec' , subtract)\n",
    "    cv2.waitKey(0)\n",
    "    cv2.destroyAllWindows()\n",
    "    file=\"C:/Users/ASUS/assignment3_data/aug/\"+img_name_final[0]+\"_bright_dec.jpg\"\n",
    "    cv2.imwrite(file,subtract)"
   ]
  },
  {
   "cell_type": "code",
   "execution_count": null,
   "metadata": {},
   "outputs": [],
   "source": [
    "# AS we have fisrt decreased the brightness of image,now is the turn of incresing it.\n",
    "\n",
    "filename = \"C:/Users/ASUS/assignment3/train/flipkart_jeans\"\n",
    "os.makedirs('C:/Users/ASUS/assignment3_data/aug/')\n",
    "for img in glob.glob(filename+'/*.*'):\n",
    "    var_img = cv2.imread(img)\n",
    "    img_name=os.path.basename(img)\n",
    "    img_name_final=os.path.splitext(img_name)\n",
    "    m=np.ones(var_img.shape,dtype='uint8')*85\n",
    "    added=cv2.add(var_img,m)\n",
    "    cv2.imshow('Bright_inc' , added)\n",
    "    cv2.waitKey(0)\n",
    "    cv2.destroyAllWindows()\n",
    "    file=\"C:/Users/ASUS/assignment3_data/aug/\"+img_name_final[0]+\"_brightness_inreased.jpg\"\n",
    "    cv2.imwrite(file,added)"
   ]
  },
  {
   "cell_type": "markdown",
   "metadata": {},
   "source": [
    "# In this sharpening of image is done:"
   ]
  },
  {
   "cell_type": "code",
   "execution_count": null,
   "metadata": {},
   "outputs": [],
   "source": [
    "# Just to get clear insight of the image we do sharpening:\n",
    "\n",
    "filename = \"C:/Users/ASUS/assignment3/train/flipkart_jeans\"\n",
    "os.makedirs('C:/Users/ASUS/assignment3_data/aug/')\n",
    "for img in glob.glob(filename+'/*.*'):\n",
    "    var_img = cv2.imread(img)\n",
    "    img_name=os.path.basename(img)\n",
    "    img_name_final=os.path.splitext(img_name)\n",
    "    kernel = np.array([[-1,-1,-1],\n",
    "                       [-1,9,-1],\n",
    "                       [-1,-1,-1]])\n",
    "    sharp=cv2.filter2D(var_img,-1,kernel)\n",
    "    cv2.imshow('sharp' , sharp)\n",
    "    cv2.waitKey(0)\n",
    "    cv2.destroyAllWindows()\n",
    "    file=\"C:/Users/ASUS/assignment3_data/aug/\"+img_name_final[0]+\"_sharp.jpg\"\n",
    "    cv2.imwrite(file,sharp)"
   ]
  },
  {
   "cell_type": "code",
   "execution_count": null,
   "metadata": {},
   "outputs": [],
   "source": []
  }
 ],
 "metadata": {
  "kernelspec": {
   "display_name": "Python 3",
   "language": "python",
   "name": "python3"
  },
  "language_info": {
   "codemirror_mode": {
    "name": "ipython",
    "version": 3
   },
   "file_extension": ".py",
   "mimetype": "text/x-python",
   "name": "python",
   "nbconvert_exporter": "python",
   "pygments_lexer": "ipython3",
   "version": "3.7.4"
  }
 },
 "nbformat": 4,
 "nbformat_minor": 2
}
